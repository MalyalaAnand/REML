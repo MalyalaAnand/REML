{
  "nbformat": 4,
  "nbformat_minor": 0,
  "metadata": {
    "colab": {
      "provenance": [],
      "authorship_tag": "ABX9TyMFpg+OeS+HLUHXZ9MhCThY",
      "include_colab_link": true
    },
    "kernelspec": {
      "name": "python3",
      "display_name": "Python 3"
    },
    "language_info": {
      "name": "python"
    }
  },
  "cells": [
    {
      "cell_type": "markdown",
      "metadata": {
        "id": "view-in-github",
        "colab_type": "text"
      },
      "source": [
        "<a href=\"https://colab.research.google.com/github/MalyalaAnand/REML/blob/main/REML_LAB_02.ipynb\" target=\"_parent\"><img src=\"https://colab.research.google.com/assets/colab-badge.svg\" alt=\"Open In Colab\"/></a>"
      ]
    },
    {
      "cell_type": "code",
      "execution_count": 1,
      "metadata": {
        "colab": {
          "base_uri": "https://localhost:8080/"
        },
        "id": "Ih-DrAuHzjUK",
        "outputId": "8f06bcd4-ac80-42f1-fd05-5fde43eb1325"
      },
      "outputs": [
        {
          "output_type": "stream",
          "name": "stdout",
          "text": [
            "Requirement already satisfied: gymnasium in /usr/local/lib/python3.11/dist-packages (1.2.0)\n",
            "Requirement already satisfied: numpy>=1.21.0 in /usr/local/lib/python3.11/dist-packages (from gymnasium) (2.0.2)\n",
            "Requirement already satisfied: cloudpickle>=1.2.0 in /usr/local/lib/python3.11/dist-packages (from gymnasium) (3.1.1)\n",
            "Requirement already satisfied: typing-extensions>=4.3.0 in /usr/local/lib/python3.11/dist-packages (from gymnasium) (4.14.1)\n",
            "Requirement already satisfied: farama-notifications>=0.0.1 in /usr/local/lib/python3.11/dist-packages (from gymnasium) (0.0.4)\n"
          ]
        }
      ],
      "source": [
        "pip install gymnasium"
      ]
    },
    {
      "cell_type": "code",
      "source": [
        "import gymnasium as gym\n",
        "import numpy as np\n",
        "from collections import defaultdict"
      ],
      "metadata": {
        "id": "2YusEaB9zpZS"
      },
      "execution_count": 2,
      "outputs": []
    },
    {
      "cell_type": "code",
      "source": [
        "env = gym.make('Blackjack-v1', sab=True)\n",
        "\n",
        "# Function to create a random policy\n",
        "def create_random_policy(env):\n",
        "    return lambda state: np.random.choice(env.action_space.n)\n",
        "\n",
        "# Function to create a greedy policy based on Q-values\n",
        "def create_greedy_policy(Q):\n",
        "    def policy_fn(state):\n",
        "        return np.argmax(Q[state])\n",
        "    return policy_fn"
      ],
      "metadata": {
        "id": "E0buZIeR0HAL"
      },
      "execution_count": 3,
      "outputs": []
    },
    {
      "cell_type": "code",
      "source": [
        "def mc_policy_evaluation(policy, env, num_episodes, gamma=1.0):\n",
        "    returns_sum = defaultdict(float)\n",
        "    returns_count = defaultdict(float)\n",
        "    V = defaultdict(float)\n",
        "\n",
        "    for _ in range(num_episodes):\n",
        "        episode = []\n",
        "        state = env.reset()[0]\n",
        "        done = False\n",
        "\n",
        "        while not done:\n",
        "            action = policy(state)\n",
        "            next_state, reward, terminated, truncated, _ = env.step(action)\n",
        "            done = terminated or truncated # Blackjack env can be terminated or truncated\n",
        "            episode.append((state, action, reward))\n",
        "            state = next_state\n",
        "\n",
        "        visited_states = set()\n",
        "        G = 0\n",
        "        for state, action, reward in reversed(episode):\n",
        "            G = gamma * G + reward\n",
        "            if state not in visited_states:\n",
        "                returns_sum[state] += G\n",
        "                returns_count[state] += 1\n",
        "                V[state] = returns_sum[state] / returns_count[state]\n",
        "                visited_states.add(state)\n",
        "    return V"
      ],
      "metadata": {
        "id": "deUGe6RN0I_Y"
      },
      "execution_count": 4,
      "outputs": []
    },
    {
      "cell_type": "code",
      "source": [
        "def mc_control_epsilon_greedy(env, num_episodes, gamma=1.0, epsilon=0.1):\n",
        "    Q = defaultdict(lambda: np.zeros(env.action_space.n))\n",
        "\n",
        "    def policy_fn(state):\n",
        "        if np.random.rand() < epsilon:\n",
        "            return np.random.choice(env.action_space.n)\n",
        "        else:\n",
        "            return np.argmax(Q[state])\n",
        "\n",
        "    for _ in range(num_episodes):\n",
        "        episode = []\n",
        "        state = env.reset()[0]\n",
        "        done = False\n",
        "\n",
        "        while not done:\n",
        "            action = policy_fn(state)\n",
        "            next_state, reward, terminated, truncated, _ = env.step(action)\n",
        "            done = terminated or truncated # Blackjack env can be terminated or truncated\n",
        "            episode.append((state, action, reward))\n",
        "            state = next_state\n",
        "\n",
        "        visited_state_action_pairs = set()\n",
        "        G = 0\n",
        "        for state, action, reward in reversed(episode):\n",
        "            G = gamma * G + reward\n",
        "            if (state, action) not in visited_state_action_pairs:\n",
        "                old_q = Q[state][action]\n",
        "                Q[state][action] = old_q + (G - old_q) / (1 + sum(1 for s, a, r in episode if s == state and a == action))\n",
        "                visited_state_action_pairs.add((state, action))\n",
        "\n",
        "    return Q, create_greedy_policy(Q)"
      ],
      "metadata": {
        "id": "zg0FTUy10OEV"
      },
      "execution_count": 5,
      "outputs": []
    },
    {
      "cell_type": "code",
      "source": [
        "if __name__ == \"__main__\":\n",
        "    random_policy = create_random_policy(env)\n",
        "\n",
        "    print(\"Evaluating random policy...\")\n",
        "    V = mc_policy_evaluation(random_policy, env, num_episodes=50000)\n",
        "    print(\"Value function for random policy (sample):\")\n",
        "    for i, (state, value) in enumerate(list(V.items())[:10]):\n",
        "        print(f\"State: {state}, Value: {value:.2f}\")\n",
        "\n",
        "    print(\"\\nTraining control policy with epsilon-greedy strategy...\")\n",
        "    Q, greedy_policy = mc_control_epsilon_greedy(env, num_episodes=500000)\n",
        "    print(\"Learned Q-values (sample):\")\n",
        "    for i, (state, actions) in enumerate(list(Q.items())[:10]):\n",
        "        print(f\"State: {state}, Actions: {actions}\")"
      ],
      "metadata": {
        "colab": {
          "base_uri": "https://localhost:8080/"
        },
        "id": "1H9tvCn40Q40",
        "outputId": "443e75c4-fefd-4568-d835-a61ad0edb7dd"
      },
      "execution_count": 6,
      "outputs": [
        {
          "output_type": "stream",
          "name": "stdout",
          "text": [
            "Evaluating random policy...\n",
            "Value function for random policy (sample):\n",
            "State: (21, 9, 0), Value: -0.13\n",
            "State: (16, 9, 0), Value: -0.56\n",
            "State: (19, 10, 0), Value: -0.41\n",
            "State: (17, 10, 0), Value: -0.64\n",
            "State: (12, 1, 0), Value: -0.78\n",
            "State: (20, 10, 0), Value: -0.23\n",
            "State: (18, 10, 0), Value: -0.53\n",
            "State: (8, 10, 0), Value: -0.57\n",
            "State: (19, 3, 0), Value: -0.24\n",
            "State: (17, 8, 0), Value: -0.53\n",
            "\n",
            "Training control policy with epsilon-greedy strategy...\n",
            "Learned Q-values (sample):\n",
            "State: (16, 7, 0), Actions: [-0.99804659  0.1836138 ]\n",
            "State: (14, 9, 0), Actions: [-0.99996846 -0.48432539]\n",
            "State: (11, 2, 0), Actions: [-0.97946094  0.73968129]\n",
            "State: (18, 1, 0), Actions: [-0.71092974 -0.99902343]\n",
            "State: (5, 10, 0), Actions: [-0.99993799 -0.99995959]\n",
            "State: (15, 6, 0), Actions: [ 0.71623807 -0.99980926]\n",
            "State: (12, 3, 0), Actions: [ 0.00178172 -0.35545817]\n",
            "State: (12, 10, 0), Actions: [-0.99999615 -0.99754306]\n",
            "State: (13, 10, 1), Actions: [-0.99999996 -0.65130885]\n",
            "State: (19, 4, 0), Actions: [-0.06271426 -0.87451166]\n"
          ]
        }
      ]
    }
  ]
}